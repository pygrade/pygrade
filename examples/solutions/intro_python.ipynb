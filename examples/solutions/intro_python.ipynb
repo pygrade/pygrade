{
  "cells": [
    {
      "cell_type": "markdown",
      "id": "00cf4499",
      "metadata": {
        "id": "00cf4499"
      },
      "source": [
        "# Objective\n",
        "\n",
        "The objective of this notebook is to explore how to use notebooks for homework.\n",
        "You will be submitting your homework during the course using these notebooks."
      ]
    },
    {
      "cell_type": "code",
      "execution_count": 1,
      "id": "Y9qPf99i6x5L",
      "metadata": {
        "id": "Y9qPf99i6x5L"
      },
      "outputs": [],
      "source": [
        "STUDENT_NAME = \"Nombre Apellido\"\n",
        "COURSE_NAME = \"test1\"\n",
        "EXERCISE_NAME = \"python-intro\""
      ]
    },
    {
      "cell_type": "code",
      "execution_count": 6,
      "id": "a86892f5",
      "metadata": {
        "id": "a86892f5"
      },
      "outputs": [
        {
          "ename": "ModuleNotFoundError",
          "evalue": "No module named 'pygradus'",
          "output_type": "error",
          "traceback": [
            "\u001b[0;31m---------------------------------------------------------------------------\u001b[0m",
            "\u001b[0;31mModuleNotFoundError\u001b[0m                       Traceback (most recent call last)",
            "\u001b[1;32m/Users/danski/workspace/pygrade/examples/solutions/intro_python.ipynb Cell 3'\u001b[0m in \u001b[0;36m<cell line: 2>\u001b[0;34m()\u001b[0m\n\u001b[1;32m      <a href='vscode-notebook-cell:/Users/danski/workspace/pygrade/examples/solutions/intro_python.ipynb#ch0000004?line=0'>1</a>\u001b[0m \u001b[39mimport\u001b[39;00m \u001b[39mnumpy\u001b[39;00m \u001b[39mas\u001b[39;00m \u001b[39mnp\u001b[39;00m\n\u001b[0;32m----> <a href='vscode-notebook-cell:/Users/danski/workspace/pygrade/examples/solutions/intro_python.ipynb#ch0000004?line=1'>2</a>\u001b[0m \u001b[39mimport\u001b[39;00m \u001b[39mpygradus\u001b[39;00m \u001b[39mas\u001b[39;00m \u001b[39mgr\u001b[39;00m\n",
            "\u001b[0;31mModuleNotFoundError\u001b[0m: No module named 'pygradus'"
          ]
        }
      ],
      "source": [
        "import numpy as np\n",
        "import pygradus as gr"
      ]
    },
    {
      "cell_type": "code",
      "execution_count": null,
      "id": "b0b84bea",
      "metadata": {
        "id": "b0b84bea",
        "nbgrader": {
          "grade": false,
          "grade_id": "grade_vowels",
          "locked": false,
          "schema_version": 3,
          "solution": true,
          "task": false
        }
      },
      "outputs": [],
      "source": [
        "def remove_vowels(s: str) -> str:\n",
        "    \"\"\"\n",
        "    This function removes all vowels from strings\n",
        "    Example: \"hello\" -> \"hll\"\n",
        "    \"\"\"\n",
        "    \n",
        "    #sss\n",
        "    \n",
        "    return s.translate(str.maketrans('', '', 'aeiouáéíóú'))\n",
        "    \n",
        "    #eee"
      ]
    },
    {
      "cell_type": "code",
      "execution_count": null,
      "id": "0e6e8989",
      "metadata": {
        "colab": {
          "base_uri": "https://localhost:8080/"
        },
        "id": "0e6e8989",
        "nbgrader": {
          "grade": true,
          "grade_id": "grade_remove_vowels",
          "locked": true,
          "points": 1,
          "schema_version": 3,
          "solution": false,
          "task": false
        },
        "outputId": "d43ac27c-75e2-4a25-e00e-db3ebfa39cd8"
      },
      "outputs": [
        {
          "name": "stdout",
          "output_type": "stream",
          "text": [
            "st f n bn d\n"
          ]
        }
      ],
      "source": [
        "assert remove_vowels(\"hola\") == \"hl\"\n",
        "answer_1  = remove_vowels(\"este fue un buen día\")\n",
        "print(answer_1)"
      ]
    },
    {
      "cell_type": "code",
      "execution_count": null,
      "id": "69cf23b0",
      "metadata": {
        "id": "69cf23b0",
        "nbgrader": {
          "grade": false,
          "grade_id": "sum_of_list",
          "locked": false,
          "schema_version": 3,
          "solution": true,
          "task": false
        }
      },
      "outputs": [],
      "source": [
        "def sum_list_of_floats(a: list, b:list) -> list:\n",
        "    \"\"\"\n",
        "    Returns the coordinate wise sum of a and b.\n",
        "    \"\"\"\n",
        "    \n",
        "    #sss\n",
        "\n",
        "    return list(np.array(a) + np.array(b))\n",
        "\n",
        "    #eee"
      ]
    },
    {
      "cell_type": "code",
      "execution_count": null,
      "id": "7ab142cf",
      "metadata": {
        "colab": {
          "base_uri": "https://localhost:8080/"
        },
        "id": "7ab142cf",
        "nbgrader": {
          "grade": true,
          "grade_id": "grade_sum",
          "locked": true,
          "points": 1,
          "schema_version": 3,
          "solution": false,
          "task": false
        },
        "outputId": "9958db1b-b8b6-4712-e107-f2c1fe4e4f53"
      },
      "outputs": [
        {
          "name": "stdout",
          "output_type": "stream",
          "text": [
            "[1, -1]\n"
          ]
        }
      ],
      "source": [
        "assert np.allclose(\n",
        "    sum_list_of_floats(\n",
        "        [1, 2, 3], [4, 5, -2.3]),\n",
        "    [5, 7, 0.7]\n",
        ")\n",
        "answer_2 = sum_list_of_floats([0, 0], [1, -1])\n",
        "print(answer_2)"
      ]
    },
    {
      "cell_type": "code",
      "execution_count": null,
      "id": "kuHmKkzV9PXg",
      "metadata": {
        "id": "kuHmKkzV9PXg"
      },
      "outputs": [],
      "source": [
        "#ttt\n",
        "TASKS = [\n",
        "         {\n",
        "             \"name\": \"remove_vowels\",\n",
        "             \"answer\": str(answer_1),\n",
        "         },\n",
        "                  {\n",
        "             \"name\": \"sum_floats\",\n",
        "             \"answer\": str(answer_2),\n",
        "         }\n",
        "]"
      ]
    },
    {
      "cell_type": "code",
      "execution_count": null,
      "id": "BmpJ8qQA9af7",
      "metadata": {
        "colab": {
          "base_uri": "https://localhost:8080/"
        },
        "id": "BmpJ8qQA9af7",
        "outputId": "3e5ad9ef-786f-4c4e-c531-bcf435d4c465"
      },
      "outputs": [
        {
          "name": "stdout",
          "output_type": "stream",
          "text": [
            "··········\n"
          ]
        }
      ],
      "source": [
        "#ddd\n",
        "config = {\n",
        "    \"course_name\": COURSE_NAME,\n",
        "    \"exercise_name\": EXERCISE_NAME,\n",
        "    \"tasks\": TASKS,\n",
        "    \n",
        "}\n",
        "response = gr.create_exercise(\"admin\", config)"
      ]
    },
    {
      "cell_type": "code",
      "execution_count": null,
      "id": "QtfWbG-jnI1h",
      "metadata": {
        "id": "QtfWbG-jnI1h"
      },
      "outputs": [],
      "source": []
    }
  ],
  "metadata": {
    "celltoolbar": "Create Assignment",
    "colab": {
      "name": "Introduction to Python.ipynb",
      "provenance": []
    },
    "kernelspec": {
      "display_name": "Python 3",
      "language": "python",
      "name": "python3"
    },
    "language_info": {
      "codemirror_mode": {
        "name": "ipython",
        "version": 3
      },
      "file_extension": ".py",
      "mimetype": "text/x-python",
      "name": "python",
      "nbconvert_exporter": "python",
      "pygments_lexer": "ipython3",
      "version": "3.9.7"
    }
  },
  "nbformat": 4,
  "nbformat_minor": 5
}
